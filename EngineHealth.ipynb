{
 "cells": [
  {
   "cell_type": "markdown",
   "metadata": {},
   "source": [
    "Data Preparation"
   ]
  },
  {
   "cell_type": "code",
   "execution_count": 27,
   "metadata": {
    "vscode": {
     "languageId": "plaintext"
    }
   },
   "outputs": [],
   "source": [
    "# imports\n",
    "import pandas as pd\n",
    "import matplotlib.pyplot as plt\n",
    "import numpy as np"
   ]
  },
  {
   "cell_type": "code",
   "execution_count": 36,
   "metadata": {},
   "outputs": [
    {
     "data": {
      "text/html": [
       "<div>\n",
       "<style scoped>\n",
       "    .dataframe tbody tr th:only-of-type {\n",
       "        vertical-align: middle;\n",
       "    }\n",
       "\n",
       "    .dataframe tbody tr th {\n",
       "        vertical-align: top;\n",
       "    }\n",
       "\n",
       "    .dataframe thead th {\n",
       "        text-align: right;\n",
       "    }\n",
       "</style>\n",
       "<table border=\"1\" class=\"dataframe\">\n",
       "  <thead>\n",
       "    <tr style=\"text-align: right;\">\n",
       "      <th></th>\n",
       "      <th>Engine rpm</th>\n",
       "      <th>Lub oil pressure</th>\n",
       "      <th>Fuel pressure</th>\n",
       "      <th>Coolant pressure</th>\n",
       "      <th>lub oil temp</th>\n",
       "      <th>Coolant temp</th>\n",
       "      <th>Engine Condition</th>\n",
       "    </tr>\n",
       "  </thead>\n",
       "  <tbody>\n",
       "    <tr>\n",
       "      <th>count</th>\n",
       "      <td>19535.000000</td>\n",
       "      <td>19535.000000</td>\n",
       "      <td>19535.000000</td>\n",
       "      <td>19535.000000</td>\n",
       "      <td>19535.000000</td>\n",
       "      <td>19535.000000</td>\n",
       "      <td>19535.000000</td>\n",
       "    </tr>\n",
       "    <tr>\n",
       "      <th>mean</th>\n",
       "      <td>791.239263</td>\n",
       "      <td>3.303775</td>\n",
       "      <td>6.655615</td>\n",
       "      <td>2.335369</td>\n",
       "      <td>77.643420</td>\n",
       "      <td>78.427433</td>\n",
       "      <td>0.630509</td>\n",
       "    </tr>\n",
       "    <tr>\n",
       "      <th>std</th>\n",
       "      <td>267.611193</td>\n",
       "      <td>1.021643</td>\n",
       "      <td>2.761021</td>\n",
       "      <td>1.036382</td>\n",
       "      <td>3.110984</td>\n",
       "      <td>6.206749</td>\n",
       "      <td>0.482679</td>\n",
       "    </tr>\n",
       "    <tr>\n",
       "      <th>min</th>\n",
       "      <td>61.000000</td>\n",
       "      <td>0.003384</td>\n",
       "      <td>0.003187</td>\n",
       "      <td>0.002483</td>\n",
       "      <td>71.321974</td>\n",
       "      <td>61.673325</td>\n",
       "      <td>0.000000</td>\n",
       "    </tr>\n",
       "    <tr>\n",
       "      <th>25%</th>\n",
       "      <td>593.000000</td>\n",
       "      <td>2.518815</td>\n",
       "      <td>4.916886</td>\n",
       "      <td>1.600466</td>\n",
       "      <td>75.725990</td>\n",
       "      <td>73.895421</td>\n",
       "      <td>0.000000</td>\n",
       "    </tr>\n",
       "    <tr>\n",
       "      <th>50%</th>\n",
       "      <td>746.000000</td>\n",
       "      <td>3.162035</td>\n",
       "      <td>6.201720</td>\n",
       "      <td>2.166883</td>\n",
       "      <td>76.817350</td>\n",
       "      <td>78.346662</td>\n",
       "      <td>1.000000</td>\n",
       "    </tr>\n",
       "    <tr>\n",
       "      <th>75%</th>\n",
       "      <td>934.000000</td>\n",
       "      <td>4.055272</td>\n",
       "      <td>7.744973</td>\n",
       "      <td>2.848840</td>\n",
       "      <td>78.071691</td>\n",
       "      <td>82.915411</td>\n",
       "      <td>1.000000</td>\n",
       "    </tr>\n",
       "    <tr>\n",
       "      <th>max</th>\n",
       "      <td>2239.000000</td>\n",
       "      <td>7.265566</td>\n",
       "      <td>21.138326</td>\n",
       "      <td>7.478505</td>\n",
       "      <td>89.580796</td>\n",
       "      <td>195.527912</td>\n",
       "      <td>1.000000</td>\n",
       "    </tr>\n",
       "  </tbody>\n",
       "</table>\n",
       "</div>"
      ],
      "text/plain": [
       "         Engine rpm  Lub oil pressure  Fuel pressure  Coolant pressure  \\\n",
       "count  19535.000000      19535.000000   19535.000000      19535.000000   \n",
       "mean     791.239263          3.303775       6.655615          2.335369   \n",
       "std      267.611193          1.021643       2.761021          1.036382   \n",
       "min       61.000000          0.003384       0.003187          0.002483   \n",
       "25%      593.000000          2.518815       4.916886          1.600466   \n",
       "50%      746.000000          3.162035       6.201720          2.166883   \n",
       "75%      934.000000          4.055272       7.744973          2.848840   \n",
       "max     2239.000000          7.265566      21.138326          7.478505   \n",
       "\n",
       "       lub oil temp  Coolant temp  Engine Condition  \n",
       "count  19535.000000  19535.000000      19535.000000  \n",
       "mean      77.643420     78.427433          0.630509  \n",
       "std        3.110984      6.206749          0.482679  \n",
       "min       71.321974     61.673325          0.000000  \n",
       "25%       75.725990     73.895421          0.000000  \n",
       "50%       76.817350     78.346662          1.000000  \n",
       "75%       78.071691     82.915411          1.000000  \n",
       "max       89.580796    195.527912          1.000000  "
      ]
     },
     "execution_count": 36,
     "metadata": {},
     "output_type": "execute_result"
    }
   ],
   "source": [
    "df = pd.read_csv(\"engine_data.csv\")\n",
    "\n",
    "df.describe()"
   ]
  },
  {
   "cell_type": "code",
   "execution_count": 25,
   "metadata": {},
   "outputs": [
    {
     "name": "stdout",
     "output_type": "stream",
     "text": [
      "False\n"
     ]
    }
   ],
   "source": [
    "# check for null/NaN values in the data\n",
    "\n",
    "print(df.isnull().values.any())"
   ]
  },
  {
   "cell_type": "code",
   "execution_count": 35,
   "metadata": {},
   "outputs": [
    {
     "data": {
      "image/png": "[encoded data removed]",
      "text/plain": [
       "<Figure size 1152x864 with 7 Axes>"
      ]
     },
     "metadata": {
      "needs_background": "light"
     },
     "output_type": "display_data"
    }
   ],
   "source": [
    "# visualize each column\n",
    "\n",
    "plt.figure(figsize=(16,12))\n",
    "for i in range(7):\n",
    "    data = df.iloc[:, i]\n",
    "    \n",
    "    plt.subplot(2,4, i+1)\n",
    "    plt.hist(data,)\n",
    "    plt.title(df.columns[i])"
   ]
  },
  {
   "cell_type": "code",
   "execution_count": null,
   "metadata": {},
   "outputs": [],
   "source": []
  }
 ],
 "metadata": {
  "kernelspec": {
   "display_name": "Python 3",
   "language": "python",
   "name": "python3"
  },
  "language_info": {
   "codemirror_mode": {
    "name": "ipython",
    "version": 3
   },
   "file_extension": ".py",
   "mimetype": "text/x-python",
   "name": "python",
   "nbconvert_exporter": "python",
   "pygments_lexer": "ipython3",
   "version": "3.8.8"
  }
 },
 "nbformat": 4,
 "nbformat_minor": 2
}
